{
 "cells": [
  {
   "attachments": {},
   "cell_type": "markdown",
   "metadata": {},
   "source": [
    "# 参考\n",
    "> [Python小白的数学建模课-11.偏微分方程数值解法](https://blog.csdn.net/youcans/article/details/119755450)\n",
    "> [是谁还在胡说有限差分法？](https://www.bilibili.com/video/BV1Nh41197Tt?share_source=copy_web)"
   ]
  },
  {
   "attachments": {},
   "cell_type": "markdown",
   "metadata": {},
   "source": [
    "# 偏微分方程基本知识\n",
    "\n",
    "微分方程是指含有未知函数及其导数的关系式，偏微分方程是包含未知函数的偏导数（偏微分）的微分方程。\n",
    "\n",
    "偏微分方程可以描述各种自然和工程现象， 是构建科学、工程学和其他领域的数学模型主要手段。 科学和工程中的大多数实际问题都归结为偏微分方程的定解问题，如：波传播，流动和扩散，振动，固体力学，电磁学和量子力学，等等。\n",
    "\n",
    "偏微分方程主要有三类：椭圆方程，抛物方程和双曲方程。\n",
    "\n",
    "双曲方程描述变量以一定速度沿某个方向传播，常用于描述振动与波动问题。\n",
    "椭圆方程描述变量以一定深度沿所有方向传播，常用于描述静电场、引力场等稳态问题。\n",
    "抛物方程描述变量沿下游传播，常用于描述热传导和扩散等瞬态问题。\n",
    "偏微分方程的定解问题通常很难求出解析解，只能通过数值计算方法对偏微分方程的近似求解。常用偏微分方程数值解法有：有限差分方法、有限元方法、有限体方法、共轭梯度法，等等。通常先对问题的求解区域进行网格剖分，然后将定解问题离散为代数方程组，求出在离散网格点上的近似值。\n",
    "\n",
    "Python 语言求解偏微分方程的功能是比较弱的，主要有 Fipy, FEniCS 等有限元方法的工具包，另外还有机器学习工具如 Tensorflow 也可以进行偏微分方程的仿真模拟。但是，这些工具都不适合 Python 小白学习和使用，因此本篇采用比较简单的有限差分法对 5种典型的偏微分方程进行编程，通过案例讲解偏微分方程的数值解法。"
   ]
  },
  {
   "cell_type": "code",
   "execution_count": null,
   "metadata": {},
   "outputs": [],
   "source": [
    "# mathmodel13_v1.py\n",
    "# Demo10 of mathematical modeling algorithm\n",
    "# Solving partial differential equations\n",
    "# 偏微分方程数值解法\n",
    "\n",
    "import numpy as np\n",
    "import matplotlib.pyplot as plt\n",
    "\n",
    "# 1. 一维平流方程 (advection equation)\n",
    "# U_t + v*U_x = 0\n",
    "\n",
    "# 初始条件函数 U(x,0)\n",
    "def funcUx0(x, p): \n",
    "    u0 = np.sin(2 * (x-p)**2)\n",
    "    return u0\n",
    "\n",
    "# 输入参数\n",
    "v1 = 1.0  # 平流方程参数，系统速度\n",
    "p = 0.25  # 初始条件函数 u(x,0) 中的参数\n",
    "\n",
    "tc = 0  # 开始时间\n",
    "te = 1.0  # 终止时间: (0, te)\n",
    "xa = 0.0  # 空间范围: (xa, xb)\n",
    "xb = np.pi\n",
    "dt = 0.02  # 时间差分步长\n",
    "nNodes = 100  # 空间网格数\n",
    "\n",
    "# 初始化\n",
    "nsteps = round(te/dt)\n",
    "dx = (xb - xa) / nNodes\n",
    "x = np.arange(xa-dx, xb+2*dx, dx)\n",
    "ux0 = funcUx0(x, p)\n",
    "\n",
    "u = ux0.copy()  # u(j)\n",
    "ujp = ux0.copy()  # u(j+1)\n",
    "\n",
    "# 时域差分\n",
    "for i in range(nsteps):\n",
    "    plt.clf()  # 清除当前 figure 的所有axes, 但是保留当前窗口\n",
    "\n",
    "    # 计算 u(j+1)\n",
    "    for j in range(nNodes + 2):\n",
    "        ujp[j] = u[j] - (v1 * dt/dx) * (u[j] - u[j-1])\n",
    "\n",
    "    # 更新边界条件\n",
    "    u = ujp.copy()\n",
    "    u[0] = u[nNodes + 1]\n",
    "    u[nNodes+2] = u[1]\n",
    "\n",
    "    # 绘图\n",
    "    plt.plot(x, u, 'b-', label=\"v1= 1.0\")\n",
    "    plt.axis((xa-0.1, xb + 0.1, -1.1, 1.1))\n",
    "    plt.xlabel(\"x\")\n",
    "    plt.ylabel(\"U(x)\")\n",
    "    plt.legend(loc=(0.05,0.05))\n",
    "    plt.title(\"Advection equation with finite difference method, t = %1.f\" % (tc + dt))\n",
    "    plt.text(0.05,0.9,\"youcans-xupt\",color='gainsboro')\n",
    "    plt.pause(0.001)\n",
    "    tc += dt\n",
    "\n",
    "plt.show()\n"
   ]
  }
 ],
 "metadata": {
  "kernelspec": {
   "display_name": "base",
   "language": "python",
   "name": "python3"
  },
  "language_info": {
   "codemirror_mode": {
    "name": "ipython",
    "version": 3
   },
   "file_extension": ".py",
   "mimetype": "text/x-python",
   "name": "python",
   "nbconvert_exporter": "python",
   "pygments_lexer": "ipython3",
   "version": "3.9.12"
  },
  "orig_nbformat": 4,
  "vscode": {
   "interpreter": {
    "hash": "a797f562055156655e0d832afa95e21cba36135b34c9cd4946726a534f434355"
   }
  }
 },
 "nbformat": 4,
 "nbformat_minor": 2
}
